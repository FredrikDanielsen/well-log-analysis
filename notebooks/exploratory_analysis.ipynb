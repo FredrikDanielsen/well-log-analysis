{
 "cells": [
  {
   "cell_type": "markdown",
   "metadata": {},
   "source": [
    "# Exploratory Data Analysis of Well Logs\n",
    "\n",
    "This notebook is used for performing exploratory data analysis (EDA) on well log data. The goal is to understand the data better, visualize key features, and derive initial insights."
   ]
  },
  {
   "cell_type": "code",
   "execution_count": null,
   "metadata": {
    "id": "data-loading"
   },
   "outputs": [],
   "source": [
    "# Import necessary libraries\n",
    "import pandas as pd\n",
    "import matplotlib.pyplot as plt\n",
    "import seaborn as sns\n",
    "\n",
    "# Load well log data\n",
    "data_path = '../data/well_log_data.csv'  # Update with the actual data path\n",
    "well_log_data = pd.read_csv(data_path)\n",
    "\n",
    "# Display the first few rows of the dataset\n",
    "well_log_data.head()"
   ]
  },
  {
   "cell_type": "code",
   "execution_count": null,
   "metadata": {
    "id": "data-visualization"
   },
   "outputs": [],
   "source": [
    "# Visualize the distribution of a specific log\n",
    "plt.figure(figsize=(10, 6))\n",
    "sns.histplot(well_log_data['GammaRay'], bins=30, kde=True)\n",
    "plt.title('Distribution of Gamma Ray Log')\n",
    "plt.xlabel('Gamma Ray (API)')\n",
    "plt.ylabel('Frequency')\n",
    "plt.show()"
   ]
  },
  {
   "cell_type": "code",
   "execution_count": null,
   "metadata": {
    "id": "initial-insights"
   },
   "outputs": [],
   "source": [
    "# Generate initial insights\n",
    "summary_stats = well_log_data.describe()\n",
    "summary_stats"
   ]
  }
 ],
 "metadata": {
  "kernelspec": {
   "display_name": "Python 3",
   "language": "python",
   "name": "python3"
  },
  "language_info": {
   "codemirror_mode": {
    "name": "ipython",
    "version": 3
   },
   "file_extension": ".py",
   "mimetype": "text/x-python",
   "name": "python",
   "nbconvert_exporter": "python",
   "pygments_lexer": "ipython3",
   "version": "3.8.5"
  }
 },
 "nbformat": 4,
 "nbformat_minor": 4
}